{
 "metadata": {
  "name": ""
 },
 "nbformat": 3,
 "nbformat_minor": 0,
 "worksheets": [
  {
   "cells": [
    {
     "cell_type": "markdown",
     "metadata": {},
     "source": [
      "**M\u00e9todo de la bisecci\u00f3n.**"
     ]
    },
    {
     "cell_type": "markdown",
     "metadata": {},
     "source": [
      "Se incluyen dos c\u00f3digos para el m\u00e9todo de la Bisecci\u00f3n, el primero es de practica por lo cual incluye varios *print* para verificar el funcionamiento del c\u00f3digo. El segundo, es una ligera modificaci\u00f3n del primero (no hace prints), imprime una lista de **intervalos** donde \"puede\"  haber una ra\u00edz (pues esto depende de la tolerancia que hayamos dado y de que la imagen -bajo la funci\u00f3n parametro-  contenga al 'cero' )."
     ]
    },
    {
     "cell_type": "code",
     "collapsed": false,
     "input": [
      "from intervalo import *"
     ],
     "language": "python",
     "metadata": {},
     "outputs": [],
     "prompt_number": 1
    },
    {
     "cell_type": "code",
     "collapsed": false,
     "input": [
      "# c\u00f3digo de pr\u00e1ctica\n",
      "def met_biseccion2(funcion, interval, tolerancia):\n",
      "    u\"\"\" Implementaci\u00f3n del m\u00e9todo de la bisecci\u00f3n para intervalos de la clase intervalo.\n",
      "    La funci\u00f3n toma como par\u00e1metros una funci\u00f3n f previamente definida, el intervalo sobre el cual \n",
      "    se quiere trabajar y una tolerancia para espec\u00edficar un error para el cero .\n",
      "    \"\"\"\n",
      "    f = funcion\n",
      "    A = interval\n",
      "    raices = []\n",
      "    print A\n",
      "    f_lo, f_hi = f(A.lo), f(A.hi)\n",
      "    A_middle = A.middle()\n",
      "        \n",
      "    if f(A_middle) == 0 :\n",
      "        print \"estoy aqui 1\"\n",
      "        raices.append(Intervalo(A_middle))\n",
      "    \n",
      "    if f_lo * f_hi <= 0 :\n",
      "        if  A.hi - A.lo <  tolerancia :\n",
      "            raices.append(A)\n",
      "        else : \n",
      "            A_left, A_right = chop(A)\n",
      "               \n",
      "            l_aux1 = met_biseccion2(f, A_left, tolerancia)\n",
      "            if l_aux1 != [] :\n",
      "                print \"estoy aqui 2\"\n",
      "                raices = raices + l_aux1\n",
      "            \n",
      "            l_aux2 = met_biseccion2(f, A_right, tolerancia)\n",
      "            if l_aux2 != [] :\n",
      "                print \"estoy aqui 3\"\n",
      "                raices.extend(l_aux2)\n",
      "                    \n",
      "    elif f_lo * f_hi > 0 :\n",
      "        if 0 in f(A) :\n",
      "            print \"A={}\".format(f(A))\n",
      "            A_left, A_right = chop(A)\n",
      "                \n",
      "            if f(A_middle) == 0 :\n",
      "                print \"estoy aqui 4\"\n",
      "                raices.append(Intervalo(A_middle))\n",
      "                \n",
      "            l_aux1 = met_biseccion2(f, A_left, tolerancia)\n",
      "            if l_aux1 != [] :\n",
      "                print \"estoy aqui 5\"\n",
      "                raices.extend(l_aux1)\n",
      "            \n",
      "            l_aux2 = met_biseccion2(f, A_right, tolerancia)\n",
      "            if l_aux2 != [] :\n",
      "                print \"estoy aqui 6\"\n",
      "                raices.extend(l_aux2)\n",
      "    elif f_lo == 0:\n",
      "        raices.extend(Intervalo(f_lo, f_lo))\n",
      "    elif f_hi == 0:\n",
      "        raices.extend(Intervalo(f_hi, f_hi))\n",
      "    return raices"
     ],
     "language": "python",
     "metadata": {},
     "outputs": [],
     "prompt_number": 148
    },
    {
     "cell_type": "code",
     "collapsed": false,
     "input": [
      "def met_biseccion3(funcion, interval, tolerancia):\n",
      "    u\"\"\" Implementaci\u00f3n del m\u00e9todo de la bisecci\u00f3n para intervalos de la clase intervalo.\n",
      "    La funci\u00f3n toma como par\u00e1metros una funci\u00f3n f previamente definida, el intervalo sobre el cual \n",
      "    se quiere trabajar y una tolerancia para espec\u00edficar un error para la ra\u00edz (cero).\n",
      "    \"\"\"\n",
      "    f = funcion\n",
      "    A = interval\n",
      "    raices = []\n",
      "\n",
      "    f_lo, f_hi = f(A.lo), f(A.hi)\n",
      "    A_middle = A.middle()\n",
      "            \n",
      "    if f(A_middle) == 0 :\n",
      "        raices.append(Intervalo(A_middle))\n",
      "        \n",
      "    if f_lo * f_hi <= 0 :\n",
      "        if  A.hi - A.lo <  tolerancia :\n",
      "            raices.append(A)\n",
      "        else : \n",
      "            A_left, A_right = chop(A)                         \n",
      "            l_aux1 = met_biseccion3(f, A_left, tolerancia)\n",
      "            l_aux2 = met_biseccion3(f, A_right, tolerancia)\n",
      "            \n",
      "            if l_aux1 != [] :\n",
      "                raices = raices + l_aux1\n",
      "        \n",
      "            if l_aux2 != [] :\n",
      "                raices.extend(l_aux2)\n",
      "                    \n",
      "    elif f_lo * f_hi > 0 :\n",
      "        if 0 in f(A) :\n",
      "            A_left, A_right = chop(A)\n",
      "            l_aux1 = met_biseccion3(f, A_left, tolerancia)\n",
      "            l_aux2 = met_biseccion3(f, A_right, tolerancia)\n",
      "            \n",
      "            if l_aux1 != [] :\n",
      "                raices.extend(l_aux1)\n",
      "            \n",
      "            if l_aux2 != [] :\n",
      "                raices.extend(l_aux2)\n",
      "    elif f_lo == 0:\n",
      "        raices = raices +[Intervalo(f_lo, f_lo)]\n",
      "        \n",
      "    elif f_hi == 0:\n",
      "        raices = raices + [Intervalo(f_hi, f_hi)] \n",
      "        \n",
      "    return raices"
     ],
     "language": "python",
     "metadata": {},
     "outputs": [],
     "prompt_number": 3
    },
    {
     "cell_type": "code",
     "collapsed": false,
     "input": [
      "# reducci\u00f3n del c\u00f3digo anterior\n",
      "# Adem\u00e1s se considera que si el punto medio del intervalo es un cero, para no obtenerlo varias veces,\n",
      "# entonces no partimos el intervalo en mitades sino en dos intervalos, uno de 3/4 partes y otro de una cuarta parte.\n",
      "\n",
      "# Esta funci\u00f3n regresa una lista de intervalos que \"pueden\" contener ra\u00edz y a diferencia del anterior la lista \n",
      "# tiene \"tantos\" elementos como raices (pero no cuenta multiplicidad).\n",
      "##################    ###################     #########################     #####################    ########################\n",
      "\n",
      "def met_biseccion4(funcion, interval, tolerancia):\n",
      "    u\"\"\" Implementaci\u00f3n del m\u00e9todo de la bisecci\u00f3n para intervalos de la clase intervalo.\n",
      "    La funci\u00f3n toma como par\u00e1metros una funci\u00f3n f previamente definida, el intervalo sobre el cual \n",
      "    se quiere trabajar y una tolerancia para espec\u00edficar un error para la ra\u00edz (cero).\n",
      "    \"\"\"\n",
      "    f = funcion\n",
      "    A = interval\n",
      "    raices = []\n",
      "\n",
      "    f_Alo, f_Ahi = f(A.lo), f(A.hi)\n",
      "    A_middle = A.middle()\n",
      "    f_Amiddle = f(A_middle)\n",
      "    \n",
      "    if 0 in f(A):\n",
      "        \n",
      "        if  A.width() <  tolerancia :\n",
      "            raices.append(A)\n",
      "            \n",
      "        else: \n",
      "            A_left, A_right = chop(A)\n",
      "            A_rmiddle = A_right.middle()\n",
      "        \n",
      "            if f_Amiddle == 0 :\n",
      "                A_left , A_right = Intervalo(A.lo, A_rmiddle), Intervalo(A_rmiddle,A.hi)    \n",
      "            \n",
      "            l_aux1 = met_biseccion4(f, A_left, tolerancia)\n",
      "            l_aux2 = met_biseccion4(f, A_right, tolerancia)\n",
      "            \n",
      "            if l_aux1 != [] :\n",
      "                raices.extend(l_aux1)\n",
      "                \n",
      "            if l_aux2 != [] :\n",
      "                raices.extend(l_aux2)\n",
      "\n",
      "    return raices"
     ],
     "language": "python",
     "metadata": {},
     "outputs": [],
     "prompt_number": 8
    },
    {
     "cell_type": "markdown",
     "metadata": {},
     "source": [
      "*Definimos algunas funciones*"
     ]
    },
    {
     "cell_type": "code",
     "collapsed": false,
     "input": [
      "def identidad(x):\n",
      "    return x"
     ],
     "language": "python",
     "metadata": {},
     "outputs": [],
     "prompt_number": 151
    },
    {
     "cell_type": "code",
     "collapsed": false,
     "input": [
      "def cte2(x):\n",
      "    return Intervalo(2)"
     ],
     "language": "python",
     "metadata": {},
     "outputs": [],
     "prompt_number": 152
    },
    {
     "cell_type": "code",
     "collapsed": false,
     "input": [
      "def g(x):\n",
      "    return x*x -1"
     ],
     "language": "python",
     "metadata": {},
     "outputs": [],
     "prompt_number": 153
    },
    {
     "cell_type": "code",
     "collapsed": false,
     "input": [
      "def h(x) :\n",
      "    return x*x*x-3*x*x +2*x "
     ],
     "language": "python",
     "metadata": {},
     "outputs": [],
     "prompt_number": 154
    },
    {
     "cell_type": "code",
     "collapsed": false,
     "input": [
      "def h2(x):\n",
      "    return x*(x-1)*(x-2)"
     ],
     "language": "python",
     "metadata": {},
     "outputs": [],
     "prompt_number": 155
    },
    {
     "cell_type": "markdown",
     "metadata": {},
     "source": [
      "Calculamos las raices (intervalos que contengan una raiz) para las funciones anteriores con los dos m\u00e9todos anteriores."
     ]
    },
    {
     "cell_type": "code",
     "collapsed": false,
     "input": [
      "met_biseccion2(identidad, Intervalo(-1,1.5), 1/10.)"
     ],
     "language": "python",
     "metadata": {},
     "outputs": [
      {
       "output_type": "stream",
       "stream": "stdout",
       "text": [
        "[-1,1.5]\n",
        "[-1,0.25]\n",
        "[-1,-0.375]\n",
        "[-0.375,0.25]\n",
        "[-0.375,-0.0625]\n",
        "[-0.0625,0.25]\n",
        "[-0.0625,0.09375]\n",
        "[-0.0625,0.015625]\n",
        "estoy aqui 2\n",
        "[0.015625,0.09375]\n",
        "estoy aqui 2\n",
        "[0.09375,0.25]\n",
        "estoy aqui 3\n",
        "estoy aqui 3\n",
        "estoy aqui 2\n",
        "[0.25,1.5]\n"
       ]
      },
      {
       "metadata": {},
       "output_type": "pyout",
       "prompt_number": 156,
       "text": [
        "[Intervalo [-0.0625,0.015625]]"
       ]
      }
     ],
     "prompt_number": 156
    },
    {
     "cell_type": "code",
     "collapsed": false,
     "input": [
      "met_biseccion3(identidad, Intervalo(-1,1.5), 1/10.)"
     ],
     "language": "python",
     "metadata": {},
     "outputs": [
      {
       "metadata": {},
       "output_type": "pyout",
       "prompt_number": 157,
       "text": [
        "[Intervalo [-0.0625,0.015625]]"
       ]
      }
     ],
     "prompt_number": 157
    },
    {
     "cell_type": "code",
     "collapsed": false,
     "input": [
      "met_biseccion2(cte2, Intervalo(-1,1), 1/10. )"
     ],
     "language": "python",
     "metadata": {},
     "outputs": [
      {
       "output_type": "stream",
       "stream": "stdout",
       "text": [
        "[-1,1]\n"
       ]
      },
      {
       "metadata": {},
       "output_type": "pyout",
       "prompt_number": 158,
       "text": [
        "[]"
       ]
      }
     ],
     "prompt_number": 158
    },
    {
     "cell_type": "code",
     "collapsed": false,
     "input": [
      "met_biseccion3(cte2, Intervalo(-1,1), 1/10. )"
     ],
     "language": "python",
     "metadata": {},
     "outputs": [
      {
       "metadata": {},
       "output_type": "pyout",
       "prompt_number": 159,
       "text": [
        "[]"
       ]
      }
     ],
     "prompt_number": 159
    },
    {
     "cell_type": "code",
     "collapsed": false,
     "input": [
      "# met_biseccion2(g, Intervalo(-2,2), 1/10. ) \n",
      "\n",
      "# para el intervalo(-2,2) si no funciona el c\u00f3digo puede ser porque\n",
      "# el archivo intervalo.py tiene el c\u00f3digo de las funciones middle y radio como:    algo/2\n",
      "# y en realidad debe ser:    algo/2. (es decir falta el punto para que la division no sea cero)."
     ],
     "language": "python",
     "metadata": {},
     "outputs": [],
     "prompt_number": 187
    },
    {
     "cell_type": "code",
     "collapsed": false,
     "input": [
      "met_biseccion3(g, Intervalo(-2, 1.5), 1/20.)  # en este caso debe  encontrar dos raices"
     ],
     "language": "python",
     "metadata": {},
     "outputs": [
      {
       "metadata": {},
       "output_type": "pyout",
       "prompt_number": 161,
       "text": [
        "[Intervalo [-1.015625,-0.98828125], Intervalo [0.98046875,1.0078125]]"
       ]
      }
     ],
     "prompt_number": 161
    },
    {
     "cell_type": "code",
     "collapsed": false,
     "input": [
      "met_biseccion3(g, Intervalo(0, 1.5), 1/20.) # en este caso debe encontrar solo una raiz"
     ],
     "language": "python",
     "metadata": {},
     "outputs": [
      {
       "metadata": {},
       "output_type": "pyout",
       "prompt_number": 162,
       "text": [
        "[Intervalo [0.984375,1.03125]]"
       ]
      }
     ],
     "prompt_number": 162
    },
    {
     "cell_type": "code",
     "collapsed": false,
     "input": [
      "met_biseccion3(h, Intervalo(-1,2.5), 1/10.) # debemos hallar tres raices"
     ],
     "language": "python",
     "metadata": {},
     "outputs": [
      {
       "metadata": {},
       "output_type": "pyout",
       "prompt_number": 188,
       "text": [
        "[Intervalo [-0.015625,0.0390625],\n",
        " Intervalo [0.96875,1.0234375],\n",
        " Intervalo [1.953125,2.0078125]]"
       ]
      }
     ],
     "prompt_number": 188
    },
    {
     "cell_type": "code",
     "collapsed": false,
     "input": [
      "met_biseccion3(h, Intervalo(0,1.5), 1/10.)  # dos raices"
     ],
     "language": "python",
     "metadata": {},
     "outputs": [
      {
       "metadata": {},
       "output_type": "pyout",
       "prompt_number": 164,
       "text": [
        "[Intervalo [0,0.09375], Intervalo [0.9375,1.03125]]"
       ]
      }
     ],
     "prompt_number": 164
    },
    {
     "cell_type": "code",
     "collapsed": false,
     "input": [
      "met_biseccion3(h, Intervalo(1.5,4), 1/10.)  #  una raiz"
     ],
     "language": "python",
     "metadata": {},
     "outputs": [
      {
       "metadata": {},
       "output_type": "pyout",
       "prompt_number": 165,
       "text": [
        "[Intervalo [1.96875,2.046875]]"
       ]
      }
     ],
     "prompt_number": 165
    },
    {
     "cell_type": "code",
     "collapsed": false,
     "input": [
      "met_biseccion3(h, Intervalo(2.5,4), 1/10.)  #  ninguna raiz"
     ],
     "language": "python",
     "metadata": {},
     "outputs": [
      {
       "metadata": {},
       "output_type": "pyout",
       "prompt_number": 166,
       "text": [
        "[]"
       ]
      }
     ],
     "prompt_number": 166
    },
    {
     "cell_type": "code",
     "collapsed": false,
     "input": [
      "met_biseccion3(h, Intervalo(-1,3.3), 0.3)"
     ],
     "language": "python",
     "metadata": {},
     "outputs": [
      {
       "metadata": {},
       "output_type": "pyout",
       "prompt_number": 167,
       "text": [
        "[Intervalo [-0.19375,0.075],\n",
        " Intervalo [0.88125,1.15],\n",
        " Intervalo [1.95625,2.225]]"
       ]
      }
     ],
     "prompt_number": 167
    },
    {
     "cell_type": "code",
     "collapsed": false,
     "input": [
      "# met_biseccion2(h, Intervalo(-1,5), 1/10. )"
     ],
     "language": "python",
     "metadata": {},
     "outputs": [],
     "prompt_number": 190
    },
    {
     "cell_type": "code",
     "collapsed": false,
     "input": [
      "met_biseccion3(h, Intervalo(-1,5), 1/10. )"
     ],
     "language": "python",
     "metadata": {},
     "outputs": [
      {
       "metadata": {},
       "output_type": "pyout",
       "prompt_number": 169,
       "text": [
        "[Intervalo [2.0,2.0],\n",
        " Intervalo [-0.0625,0.03125],\n",
        " Intervalo [0.96875,1.0625],\n",
        " Intervalo [1.90625,2.0],\n",
        " Intervalo [2.0,2.09375]]"
       ]
      }
     ],
     "prompt_number": 169
    },
    {
     "cell_type": "markdown",
     "metadata": {},
     "source": [
      "En este caso se observa que hay m\u00e1s intervalos de los que deberian (deberiamos tener solo tres intervalos), esto no se a\u00fan c\u00f3mo corregirlo pero se debe a que aproximamos raices por la izquierda y por la derecha. "
     ]
    },
    {
     "cell_type": "code",
     "collapsed": false,
     "input": [
      "met_biseccion3(h2, Intervalo(-45.12458, 3.325689), 1/10. )"
     ],
     "language": "python",
     "metadata": {},
     "outputs": [
      {
       "metadata": {},
       "output_type": "pyout",
       "prompt_number": 170,
       "text": [
        "[Intervalo [-0.0809705390625,0.0136588925781],\n",
        " Intervalo [0.959953208984,1.05458264063],\n",
        " Intervalo [1.90624752539,2.00087695703]]"
       ]
      }
     ],
     "prompt_number": 170
    },
    {
     "cell_type": "code",
     "collapsed": false,
     "input": [
      "met_biseccion4(h2, Intervalo(-5,6), 0.0009)"
     ],
     "language": "python",
     "metadata": {},
     "outputs": [
      {
       "metadata": {},
       "output_type": "pyout",
       "prompt_number": 171,
       "text": [
        "[Intervalo [-0.00018310546875,0.00048828125],\n",
        " Intervalo [0.99951171875,1.00018310547],\n",
        " Intervalo [1.99987792969,2.00054931641]]"
       ]
      }
     ],
     "prompt_number": 171
    },
    {
     "cell_type": "code",
     "collapsed": false,
     "input": [
      "met_biseccion4(h, Intervalo(-0.4, 5.32), 0.0000000000000009) "
     ],
     "language": "python",
     "metadata": {},
     "outputs": [
      {
       "metadata": {},
       "output_type": "pyout",
       "prompt_number": 177,
       "text": [
        "[Intervalo [-2.20561719626e-16,4.14485850459e-16],\n",
        " Intervalo [1.0,1.0],\n",
        " Intervalo [2.0,2.0]]"
       ]
      }
     ],
     "prompt_number": 177
    },
    {
     "cell_type": "markdown",
     "metadata": {},
     "source": [
      "Observese que a diferencia de la funcion met_biseccion3, con met_biseccion4 obtenemos solo tres intervalos."
     ]
    },
    {
     "cell_type": "code",
     "collapsed": false,
     "input": [
      "met_biseccion4(h2, Intervalo(-45.12458, 3.325689), 0.0000000000000009)"
     ],
     "language": "python",
     "metadata": {},
     "outputs": [
      {
       "metadata": {},
       "output_type": "pyout",
       "prompt_number": 186,
       "text": [
        "[Intervalo [-4.62909351648e-16,2.09473200766e-16],\n",
        " Intervalo [1.0,1.0],\n",
        " Intervalo [2.0,2.0]]"
       ]
      }
     ],
     "prompt_number": 186
    },
    {
     "cell_type": "code",
     "collapsed": false,
     "input": [
      "def f(x):\n",
      "    return x*x"
     ],
     "language": "python",
     "metadata": {},
     "outputs": [],
     "prompt_number": 5
    },
    {
     "cell_type": "code",
     "collapsed": false,
     "input": [
      "met_biseccion4(f, Intervalo(-1,1.5), .000005)"
     ],
     "language": "python",
     "metadata": {},
     "outputs": [
      {
       "metadata": {},
       "output_type": "pyout",
       "prompt_number": 9,
       "text": [
        "[Intervalo [-9.53674316406e-07,3.81469726562e-06]]"
       ]
      }
     ],
     "prompt_number": 9
    },
    {
     "cell_type": "code",
     "collapsed": false,
     "input": [],
     "language": "python",
     "metadata": {},
     "outputs": []
    }
   ],
   "metadata": {}
  }
 ]
}