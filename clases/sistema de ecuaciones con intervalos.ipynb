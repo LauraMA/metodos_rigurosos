{
 "metadata": {
  "name": ""
 },
 "nbformat": 3,
 "nbformat_minor": 0,
 "worksheets": [
  {
   "cells": [
    {
     "cell_type": "code",
     "collapsed": false,
     "input": [
      "import numpy as np\n",
      "A = np.array([[2,1],[1,1]])\n",
      "B = np.array([2,1,1,1]).reshape(2,2)\n",
      "A"
     ],
     "language": "python",
     "metadata": {},
     "outputs": [
      {
       "metadata": {},
       "output_type": "pyout",
       "prompt_number": 1,
       "text": [
        "array([[2, 1],\n",
        "       [1, 1]])"
       ]
      }
     ],
     "prompt_number": 1
    },
    {
     "cell_type": "code",
     "collapsed": false,
     "input": [
      "B"
     ],
     "language": "python",
     "metadata": {},
     "outputs": [
      {
       "metadata": {},
       "output_type": "pyout",
       "prompt_number": 2,
       "text": [
        "array([[2, 1],\n",
        "       [1, 1]])"
       ]
      }
     ],
     "prompt_number": 2
    },
    {
     "cell_type": "code",
     "collapsed": false,
     "input": [
      "b = np.array([3,2]).reshape(2,1)\n",
      "b"
     ],
     "language": "python",
     "metadata": {},
     "outputs": [
      {
       "metadata": {},
       "output_type": "pyout",
       "prompt_number": 3,
       "text": [
        "array([[3],\n",
        "       [2]])"
       ]
      }
     ],
     "prompt_number": 3
    },
    {
     "cell_type": "code",
     "collapsed": false,
     "input": [
      "x = np.array([1,0]).reshape(2,1)\n",
      "for i in range(20):\n",
      "    x = np.dot(np.identity(len(A))-A, x) + b\n",
      "print x"
     ],
     "language": "python",
     "metadata": {},
     "outputs": [
      {
       "output_type": "stream",
       "stream": "stdout",
       "text": [
        "[[-6764.]\n",
        " [-4180.]]\n"
       ]
      }
     ],
     "prompt_number": 4
    },
    {
     "cell_type": "markdown",
     "metadata": {},
     "source": [
      "Es decir, usando el m\u00e9todo iterativo sabemos que si existe un valor propio de la matriz $I-A$ de norma o valor absoluto mayor que $1$, entonces el m\u00e9todo no converge. En el caso anterior los valores propios son:"
     ]
    },
    {
     "cell_type": "code",
     "collapsed": false,
     "input": [
      "ev= np.linalg.eigvals(np.identity(len(A))-A)\n",
      "ev"
     ],
     "language": "python",
     "metadata": {},
     "outputs": [
      {
       "metadata": {},
       "output_type": "pyout",
       "prompt_number": 5,
       "text": [
        "array([-1.61803399,  0.61803399])"
       ]
      }
     ],
     "prompt_number": 5
    },
    {
     "cell_type": "code",
     "collapsed": false,
     "input": [
      "from intervalo import *\n",
      "AA = np.array([[Intervalo(2.,4.), Intervalo(-2.,1.)],[Intervalo(-1.,2.), Intervalo(2.,4.)]])\n",
      "bb = np.array([Intervalo(-2.,2.), Intervalo(-2.,2.)]).reshape(2,1)"
     ],
     "language": "python",
     "metadata": {},
     "outputs": [],
     "prompt_number": 5
    },
    {
     "cell_type": "code",
     "collapsed": false,
     "input": [
      "x = np.array([[1.],[2.]])"
     ],
     "language": "python",
     "metadata": {},
     "outputs": [],
     "prompt_number": 6
    },
    {
     "cell_type": "code",
     "collapsed": false,
     "input": [
      "for i in range(10):\n",
      "    x = np.dot(np.identity(len(AA))-AA, x) + bb\n",
      "    print x "
     ],
     "language": "python",
     "metadata": {},
     "outputs": [
      {
       "output_type": "stream",
       "stream": "stdout",
       "text": [
        "[[Intervalo [-7.0,5.0]]\n",
        " [Intervalo [-10.0,1.0]]]\n",
        "[[Intervalo [-37.0,33.0]]\n",
        " [Intervalo [-15.0,46.0]]]\n",
        "[[Intervalo [-147.0,205.0]]\n",
        " [Intervalo [-206.0,121.0]]]\n",
        "[[Intervalo [-1029.0,685.0]]\n",
        " [Intervalo [-775.0,914.0]]]\n",
        "[[Intervalo [-3607.0,4917.0]]\n",
        " [Intervalo [-4114.0,4385.0]]]\n",
        "[[Intervalo [-22981.0,19593.0]]\n",
        " [Intervalo [-22991.0,19558.0]]]\n",
        "[[Intervalo [-104763.0,108061.0]]\n",
        " [Intervalo [-97862.0,114937.0]]]\n",
        "[[Intervalo [-519909.0,544165.0]]\n",
        " [Intervalo [-560935.0,503114.0]]]\n",
        "[[Intervalo [-2754367.0,2565957.0]]\n",
        " [Intervalo [-2597674.0,2722625.0]]]\n",
        "[[Intervalo [-12893221.0,13708353.0]]\n",
        " [Intervalo [-13299791.0,13301758.0]]]\n"
       ]
      }
     ],
     "prompt_number": 8
    },
    {
     "cell_type": "markdown",
     "metadata": {},
     "source": [
      "Cambiemos el valor inicial x pues en el cas anterior no hay convergencia."
     ]
    },
    {
     "cell_type": "code",
     "collapsed": false,
     "input": [
      "x = x = np.array([[0.5],[0]])"
     ],
     "language": "python",
     "metadata": {},
     "outputs": [],
     "prompt_number": 9
    },
    {
     "cell_type": "code",
     "collapsed": false,
     "input": [
      "for i in range(10):\n",
      "    x = np.dot(np.identity(len(AA))-AA, x) + bb\n",
      "    print x "
     ],
     "language": "python",
     "metadata": {},
     "outputs": [
      {
       "output_type": "stream",
       "stream": "stdout",
       "text": [
        "[[Intervalo [-3.5,1.5]]\n",
        " [Intervalo [-3.0,2.5]]]\n",
        "[[Intervalo [-12.5,17.5]]\n",
        " [Intervalo [-13.0,18.0]]]\n",
        "[[Intervalo [-80.5,75.5]]\n",
        " [Intervalo [-91.0,66.0]]]\n",
        "[[Intervalo [-410.5,375.5]]\n",
        " [Intervalo [-351.0,436.0]]]\n",
        "[[Intervalo [-1830.5,2105.5]]\n",
        " [Intervalo [-2061.0,1876.0]]]\n",
        "[[Intervalo [-10440.5,9245.5]]\n",
        " [Intervalo [-9841.0,9846.0]]]\n",
        "[[Intervalo [-47420.5,51015.5]]\n",
        " [Intervalo [-48031.0,50406.0]]]\n",
        "[[Intervalo [-249110.5,243075.5]]\n",
        " [Intervalo [-253251.0,238936.0]]]\n",
        "[[Intervalo [-1235730.5,1225205.5]]\n",
        " [Intervalo [-1202961.0,1257976.0]]]\n",
        "[[Intervalo [-6081540.5,6223145.5]]\n",
        " [Intervalo [-6224341.0,6080346.0]]]\n"
       ]
      }
     ],
     "prompt_number": 10
    },
    {
     "cell_type": "markdown",
     "metadata": {},
     "source": [
      "como aun no hay convergencia entonces hay que hallar una constante y considerar el sistema original Ax=b pero dividiendo por la constante en ambos lados"
     ]
    },
    {
     "cell_type": "code",
     "collapsed": false,
     "input": [
      "for i in range(20):\n",
      "    x = np.dot(np.identity(len(AA))-((1/100.) * AA), x) + (1/100.)*bb\n",
      "    print x "
     ],
     "language": "python",
     "metadata": {},
     "outputs": [
      {
       "output_type": "stream",
       "stream": "stdout",
       "text": [
        "[[Intervalo [0.92,1.04]]\n",
        " [Intervalo [1.88,1.99]]]\n",
        "[[Intervalo [0.8433,1.079]]\n",
        " [Intervalo [1.764,1.9806]]]\n",
        "[[Intervalo [0.769762,1.117032]]\n",
        " [Intervalo [1.65186,1.971778]]]\n",
        "[[Intervalo [0.69925374,1.15412692]]\n",
        " [Intervalo [1.54344496,1.96351276]]]\n",
        "[[Intervalo [0.6316484628,1.1903146368]]\n",
        " [Intervalo [1.4386246232,1.955783774]]]\n",
        "[[Intervalo [0.566824686548,1.22562401954]]\n",
        " [Intervalo [1.33727334554,1.94857124489]]]\n",
        "[[Intervalo [0.504665986637,1.26008296405]]\n",
        " [Intervalo [1.23926993132,1.94185606019]]]\n",
        "[[Intervalo [0.44506078657,1.29371842597]]\n",
        " [Intervalo [1.14449747479,1.93561976862]]]\n",
        "[[Intervalo [0.387902157421,1.32655645283]]\n",
        " [Intervalo [1.05284320728,1.92984455751]]]\n",
        "[[Intervalo [0.333087625549,1.35862221492]]\n",
        " [Intervalo [0.964198349931,1.92451323089]]]\n",
        "[[Intervalo [0.280518988218,1.38994003524]]\n",
        " [Intervalo [0.878457971635,1.91960918842]]]\n",
        "[[Intervalo [0.230102136805,1.4205334183]]\n",
        " [Intervalo [0.795520852065,1.915116405]]]\n",
        "[[Intervalo [0.181746887283,1.45042507804]]\n",
        " [Intervalo [0.715289349616,1.91101941109]]]\n",
        "[[Intervalo [0.135366817681,1.4796369647]]\n",
        " [Intervalo [0.637669274071,1.90730327364]]]\n",
        "[[Intervalo [0.0908791122371,1.50819029088]]\n",
        " [Intervalo [0.562569763814,1.90395357782]]]\n",
        "[[Intervalo [0.0482044119694,1.53610555662]]\n",
        " [Intervalo [0.489903167444,1.90095640917]]]\n",
        "[[Intervalo [0.0072666713989,1.56340257367]]\n",
        " [Intervalo [0.419584929614,1.89829833655]]]\n",
        "[[Intervalo [-0.0320069788226,1.59010048892]]\n",
        " [Intervalo [0.351533480956,1.89596639556]]]\n",
        "[[Intervalo [-0.0703265032017,1.61621780706]]\n",
        " [Intervalo [0.285670131939,1.89394807254]]]\n",
        "[[Intervalo [-0.107859453863,1.64177241237]]\n",
        " [Intervalo [0.221918970521,1.89223128916]]]\n"
       ]
      }
     ],
     "prompt_number": 7
    },
    {
     "cell_type": "code",
     "collapsed": false,
     "input": [],
     "language": "python",
     "metadata": {},
     "outputs": [],
     "prompt_number": 14
    },
    {
     "cell_type": "code",
     "collapsed": false,
     "input": [],
     "language": "python",
     "metadata": {},
     "outputs": []
    }
   ],
   "metadata": {}
  }
 ]
}