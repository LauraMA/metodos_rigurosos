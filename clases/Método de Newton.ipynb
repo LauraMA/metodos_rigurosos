{
 "metadata": {
  "name": ""
 },
 "nbformat": 3,
 "nbformat_minor": 0,
 "worksheets": [
  {
   "cells": [
    {
     "cell_type": "code",
     "collapsed": false,
     "input": [
      "from intervalo import *\n",
      "import numpy as np\n",
      "from difauto import *\n",
      "\n",
      "def biseccion(f, intervalo, tol):\n",
      "    # tol - tolerancia\n",
      "    a = intervalo\n",
      "    l = []\n",
      "    \n",
      "    if 0 in f(a):\n",
      "        if a.width() <= tol:\n",
      "            l.append(a)\n",
      "        else:\n",
      "            a_left, a_right = chop(a)\n",
      "            l = l + biseccion(f, a_left, tol)\n",
      "            l = l + biseccion(f, a_right, tol)\n",
      "    return l\n",
      "\n",
      "def list_reduction(lista):\n",
      "    l = []\n",
      "    i = 0\n",
      "    k = lista[0]\n",
      "    while i+1 < len(lista):\n",
      "        if k.hi == lista[i+1].lo:\n",
      "            k = Intervalo(k.lo, lista[i+1].hi)\n",
      "            i += 1\n",
      "        else:\n",
      "            l.append(k)\n",
      "            k = lista[i+1]\n",
      "            i = i+1\n",
      "    l.append(k)\n",
      "    \n",
      "    return l\n",
      "\n",
      "\n",
      "def Bisec(f, a, tol):\n",
      "    return list_reduction(biseccion(f, a, tol))"
     ],
     "language": "python",
     "metadata": {},
     "outputs": [],
     "prompt_number": 1
    },
    {
     "cell_type": "code",
     "collapsed": false,
     "input": [
      "def f(x):\n",
      "    return x*x*x-3*x*x+2*x\n",
      "\n",
      "def h(x):\n",
      "    return x*x\n",
      "\n",
      "def j(x) :\n",
      "    return x*(x*(x*(2*x - 12) + 25) - 21) + 6 \n",
      "\n",
      "Bisec(f, Intervalo(0,4), 1/10000.)"
     ],
     "language": "python",
     "metadata": {},
     "outputs": [
      {
       "metadata": {},
       "output_type": "pyout",
       "prompt_number": 2,
       "text": [
        "[Intervalo [0,6.103515625e-05],\n",
        " Intervalo [0.999694824219,1.00036621094],\n",
        " Intervalo [1.99957275391,2.00036621094]]"
       ]
      }
     ],
     "prompt_number": 2
    },
    {
     "cell_type": "code",
     "collapsed": false,
     "input": [],
     "language": "python",
     "metadata": {},
     "outputs": [],
     "prompt_number": 2
    },
    {
     "cell_type": "code",
     "collapsed": false,
     "input": [],
     "language": "python",
     "metadata": {},
     "outputs": []
    }
   ],
   "metadata": {}
  }
 ]
}