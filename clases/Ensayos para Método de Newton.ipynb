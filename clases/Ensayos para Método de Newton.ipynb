{
 "metadata": {
  "name": ""
 },
 "nbformat": 3,
 "nbformat_minor": 0,
 "worksheets": [
  {
   "cells": [
    {
     "cell_type": "code",
     "collapsed": false,
     "input": [
      "from difauto import *        "
     ],
     "language": "python",
     "metadata": {},
     "outputs": [],
     "prompt_number": 1
    },
    {
     "cell_type": "code",
     "collapsed": false,
     "input": [
      "def f(x):\n",
      "    return x*x\n",
      "f(3)"
     ],
     "language": "python",
     "metadata": {},
     "outputs": [
      {
       "metadata": {},
       "output_type": "pyout",
       "prompt_number": 2,
       "text": [
        "9"
       ]
      }
     ],
     "prompt_number": 2
    },
    {
     "cell_type": "code",
     "collapsed": false,
     "input": [
      "f(DifAuto(5, 1))"
     ],
     "language": "python",
     "metadata": {},
     "outputs": [
      {
       "html": [
        "[25, 10]"
       ],
       "latex": [
        "$[25, 10]$"
       ],
       "metadata": {},
       "output_type": "pyout",
       "prompt_number": 25,
       "text": [
        "DifAuto [25,10]"
       ]
      }
     ],
     "prompt_number": 25
    },
    {
     "cell_type": "markdown",
     "metadata": {},
     "source": [
      "Es decir al evaluar f en un elemento de la clase DifAuto ( como f se evalua en x entonces estamos tomando x= 5 y como la derivada de la funci\u00f3n x respecto de x es 1, entonces el segundo elemento es =1) lo que estamos haciendo en realidad son dos operaciones al mismo tiempo, una de ellas efectua las operaciones tal como lo indica f mientras que la otra operaci\u00f3n aplica reglas de derivaci\u00f3n en el orden en que lo indica f. "
     ]
    },
    {
     "cell_type": "code",
     "collapsed": false,
     "input": [
      "def g(x):\n",
      "    return x*(x-1)*(x-2)"
     ],
     "language": "python",
     "metadata": {},
     "outputs": [],
     "prompt_number": 3
    },
    {
     "cell_type": "code",
     "collapsed": false,
     "input": [
      "g(DifAuto(0,1))"
     ],
     "language": "python",
     "metadata": {},
     "outputs": [
      {
       "html": [
        "[0, 2]"
       ],
       "latex": [
        "$[0, 2]$"
       ],
       "metadata": {},
       "output_type": "pyout",
       "prompt_number": 4,
       "text": [
        "DifAuto [0,2]"
       ]
      }
     ],
     "prompt_number": 4
    },
    {
     "cell_type": "code",
     "collapsed": false,
     "input": [
      "from intervalo import *\n",
      "x = math.linspace(0,10,20)\n",
      "x"
     ],
     "language": "python",
     "metadata": {},
     "outputs": [
      {
       "metadata": {},
       "output_type": "pyout",
       "prompt_number": 45,
       "text": [
        "array([  0.        ,   0.52631579,   1.05263158,   1.57894737,\n",
        "         2.10526316,   2.63157895,   3.15789474,   3.68421053,\n",
        "         4.21052632,   4.73684211,   5.26315789,   5.78947368,\n",
        "         6.31578947,   6.84210526,   7.36842105,   7.89473684,\n",
        "         8.42105263,   8.94736842,   9.47368421,  10.        ])"
       ]
      }
     ],
     "prompt_number": 45
    },
    {
     "cell_type": "code",
     "collapsed": false,
     "input": [
      "math.linspace?"
     ],
     "language": "python",
     "metadata": {},
     "outputs": [],
     "prompt_number": 59
    },
    {
     "cell_type": "code",
     "collapsed": false,
     "input": [
      "math.zeros?"
     ],
     "language": "python",
     "metadata": {},
     "outputs": [],
     "prompt_number": 46
    },
    {
     "cell_type": "code",
     "collapsed": false,
     "input": [
      "math.zeros(5)"
     ],
     "language": "python",
     "metadata": {},
     "outputs": [
      {
       "metadata": {},
       "output_type": "pyout",
       "prompt_number": 47,
       "text": [
        "array([ 0.,  0.,  0.,  0.,  0.])"
       ]
      }
     ],
     "prompt_number": 47
    },
    {
     "cell_type": "code",
     "collapsed": false,
     "input": [
      "math.zeros([])"
     ],
     "language": "python",
     "metadata": {},
     "outputs": [
      {
       "metadata": {},
       "output_type": "pyout",
       "prompt_number": 48,
       "text": [
        "array(0.0)"
       ]
      }
     ],
     "prompt_number": 48
    },
    {
     "cell_type": "code",
     "collapsed": false,
     "input": [
      "math.zeros((1,))"
     ],
     "language": "python",
     "metadata": {},
     "outputs": [
      {
       "metadata": {},
       "output_type": "pyout",
       "prompt_number": 55,
       "text": [
        "array([ 0.])"
       ]
      }
     ],
     "prompt_number": 55
    },
    {
     "cell_type": "code",
     "collapsed": false,
     "input": [
      "math.zeros((1,2,3))"
     ],
     "language": "python",
     "metadata": {},
     "outputs": [
      {
       "metadata": {},
       "output_type": "pyout",
       "prompt_number": 58,
       "text": [
        "array([[[ 0.,  0.,  0.],\n",
        "        [ 0.,  0.,  0.]]])"
       ]
      }
     ],
     "prompt_number": 58
    },
    {
     "cell_type": "code",
     "collapsed": false,
     "input": [
      "z = math.linspace(0,50,10)"
     ],
     "language": "python",
     "metadata": {},
     "outputs": [],
     "prompt_number": 67
    },
    {
     "cell_type": "code",
     "collapsed": false,
     "input": [
      "z"
     ],
     "language": "python",
     "metadata": {},
     "outputs": [
      {
       "metadata": {},
       "output_type": "pyout",
       "prompt_number": 68,
       "text": [
        "array([  0.        ,   5.55555556,  11.11111111,  16.66666667,\n",
        "        22.22222222,  27.77777778,  33.33333333,  38.88888889,\n",
        "        44.44444444,  50.        ])"
       ]
      }
     ],
     "prompt_number": 68
    },
    {
     "cell_type": "code",
     "collapsed": false,
     "input": [
      "len(z)"
     ],
     "language": "python",
     "metadata": {},
     "outputs": [
      {
       "metadata": {},
       "output_type": "pyout",
       "prompt_number": 71,
       "text": [
        "10"
       ]
      }
     ],
     "prompt_number": 71
    },
    {
     "cell_type": "code",
     "collapsed": false,
     "input": [
      "from intervalo import *"
     ],
     "language": "python",
     "metadata": {},
     "outputs": [],
     "prompt_number": 7
    },
    {
     "cell_type": "code",
     "collapsed": false,
     "input": [
      "def biseccion(f, a, tol, l = None):\n",
      "    # a -intervalo donde se quiere saber si hay ceros de la funcion f\n",
      "    # tol - tolerancia\n",
      "    if l is None:\n",
      "        l = []\n",
      "    if 0 in f(a):\n",
      "        if a.width() <= tol:\n",
      "            #if f(a.lo)*f(a.hi) < 0 :\n",
      "            l.append(a)\n",
      "        else:\n",
      "            k = chop(a)\n",
      "            l = l + bisec(f, k[0], tol, l)\n",
      "            l =  l + bisec(f, k[1], tol, l)\n",
      "    return l\n",
      "\n",
      "def bisec(f, a, tol, n):\n",
      "    epsilon = a.width()/n*1.0\n",
      "    i = 0\n",
      "    l = []\n",
      "    b = a.lo\n",
      "    while i < n:\n",
      "        l.append(Intervalo(b + i*epsilon, b + (i+1)*epsilon))\n",
      "        i += 1\n",
      "    raices = []\n",
      "    for b in l:\n",
      "        raices = raices + biseccion(f, b, tol)\n",
      "    return raices   \n",
      "        "
     ],
     "language": "python",
     "metadata": {},
     "outputs": [],
     "prompt_number": 35
    },
    {
     "cell_type": "code",
     "collapsed": false,
     "input": [
      "def h(x):\n",
      "    return x*x"
     ],
     "language": "python",
     "metadata": {},
     "outputs": [],
     "prompt_number": 36
    },
    {
     "cell_type": "code",
     "collapsed": false,
     "input": [
      "bisec(h, Intervalo(-1,1), 1/100000., 100)"
     ],
     "language": "python",
     "metadata": {},
     "outputs": [
      {
       "metadata": {},
       "output_type": "pyout",
       "prompt_number": 39,
       "text": [
        "[]"
       ]
      }
     ],
     "prompt_number": 39
    },
    {
     "cell_type": "code",
     "collapsed": false,
     "input": [
      "def j(x) :\n",
      "    return x*(x*(x*(2*x - 12) + 25) - 21) + 6 \n",
      "biseccion(j, Intervalo(-1,5),100000)"
     ],
     "language": "python",
     "metadata": {},
     "outputs": [
      {
       "metadata": {},
       "output_type": "pyout",
       "prompt_number": 34,
       "text": [
        "[Intervalo [0.6335,0.63356],\n",
        " Intervalo [0.63356,0.63362],\n",
        " Intervalo [0.63362,0.63368],\n",
        " Intervalo [0.63368,0.63374],\n",
        " Intervalo [0.63374,0.6338],\n",
        " Intervalo [0.6338,0.63386],\n",
        " Intervalo [0.63386,0.63392],\n",
        " Intervalo [0.63392,0.63398],\n",
        " Intervalo [0.63398,0.63404],\n",
        " Intervalo [0.63404,0.6341],\n",
        " Intervalo [0.6341,0.63416],\n",
        " Intervalo [0.63416,0.63422],\n",
        " Intervalo [0.63422,0.63428],\n",
        " Intervalo [0.63428,0.63434],\n",
        " Intervalo [0.63434,0.6344],\n",
        " Intervalo [0.99902,0.99908],\n",
        " Intervalo [0.99908,0.99914],\n",
        " Intervalo [0.99914,0.9992],\n",
        " Intervalo [0.9992,0.99926],\n",
        " Intervalo [0.99926,0.99932],\n",
        " Intervalo [0.99932,0.99938],\n",
        " Intervalo [0.99938,0.99944],\n",
        " Intervalo [0.99944,0.9995],\n",
        " Intervalo [0.9995,0.99956],\n",
        " Intervalo [0.99956,0.99962],\n",
        " Intervalo [0.99962,0.99968],\n",
        " Intervalo [0.99968,0.99974],\n",
        " Intervalo [0.99974,0.9998],\n",
        " Intervalo [0.9998,0.99986],\n",
        " Intervalo [0.99986,0.99992],\n",
        " Intervalo [0.99992,0.99998],\n",
        " Intervalo [0.99998,1.00004],\n",
        " Intervalo [1.00004,1.0001],\n",
        " Intervalo [1.0001,1.00016],\n",
        " Intervalo [1.00016,1.00022],\n",
        " Intervalo [1.00022,1.00028],\n",
        " Intervalo [1.00028,1.00034],\n",
        " Intervalo [1.00034,1.0004],\n",
        " Intervalo [1.0004,1.00046],\n",
        " Intervalo [1.00046,1.00052],\n",
        " Intervalo [1.00052,1.00058],\n",
        " Intervalo [1.00058,1.00064],\n",
        " Intervalo [1.00064,1.0007],\n",
        " Intervalo [1.0007,1.00076],\n",
        " Intervalo [1.00076,1.00082],\n",
        " Intervalo [1.00082,1.00088],\n",
        " Intervalo [1.00088,1.00094],\n",
        " Intervalo [1.00094,1.001],\n",
        " Intervalo [1.99796,1.99802],\n",
        " Intervalo [1.99802,1.99808],\n",
        " Intervalo [1.99808,1.99814],\n",
        " Intervalo [1.99814,1.9982],\n",
        " Intervalo [1.9982,1.99826],\n",
        " Intervalo [1.99826,1.99832],\n",
        " Intervalo [1.99832,1.99838],\n",
        " Intervalo [1.99838,1.99844],\n",
        " Intervalo [1.99844,1.9985],\n",
        " Intervalo [1.9985,1.99856],\n",
        " Intervalo [1.99856,1.99862],\n",
        " Intervalo [1.99862,1.99868],\n",
        " Intervalo [1.99868,1.99874],\n",
        " Intervalo [1.99874,1.9988],\n",
        " Intervalo [1.9988,1.99886],\n",
        " Intervalo [1.99886,1.99892],\n",
        " Intervalo [1.99892,1.99898],\n",
        " Intervalo [1.99898,1.99904],\n",
        " Intervalo [1.99904,1.9991],\n",
        " Intervalo [1.9991,1.99916],\n",
        " Intervalo [1.99916,1.99922],\n",
        " Intervalo [1.99922,1.99928],\n",
        " Intervalo [1.99928,1.99934],\n",
        " Intervalo [1.99934,1.9994],\n",
        " Intervalo [1.9994,1.99946],\n",
        " Intervalo [1.99946,1.99952],\n",
        " Intervalo [1.99952,1.99958],\n",
        " Intervalo [1.99958,1.99964],\n",
        " Intervalo [1.99964,1.9997],\n",
        " Intervalo [1.9997,1.99976],\n",
        " Intervalo [1.99976,1.99982],\n",
        " Intervalo [1.99982,1.99988],\n",
        " Intervalo [1.99988,1.99994],\n",
        " Intervalo [1.99994,2.0],\n",
        " Intervalo [2.0,2.00006],\n",
        " Intervalo [2.00006,2.00012],\n",
        " Intervalo [2.00012,2.00018],\n",
        " Intervalo [2.00018,2.00024],\n",
        " Intervalo [2.00024,2.0003],\n",
        " Intervalo [2.0003,2.00036],\n",
        " Intervalo [2.00036,2.00042],\n",
        " Intervalo [2.00042,2.00048],\n",
        " Intervalo [2.00048,2.00054],\n",
        " Intervalo [2.00054,2.0006],\n",
        " Intervalo [2.0006,2.00066],\n",
        " Intervalo [2.00066,2.00072],\n",
        " Intervalo [2.00072,2.00078],\n",
        " Intervalo [2.00078,2.00084],\n",
        " Intervalo [2.00084,2.0009],\n",
        " Intervalo [2.0009,2.00096],\n",
        " Intervalo [2.00096,2.00102],\n",
        " Intervalo [2.00102,2.00108],\n",
        " Intervalo [2.00108,2.00114],\n",
        " Intervalo [2.00114,2.0012],\n",
        " Intervalo [2.0012,2.00126],\n",
        " Intervalo [2.00126,2.00132],\n",
        " Intervalo [2.00132,2.00138],\n",
        " Intervalo [2.00138,2.00144],\n",
        " Intervalo [2.00144,2.0015],\n",
        " Intervalo [2.0015,2.00156],\n",
        " Intervalo [2.00156,2.00162],\n",
        " Intervalo [2.00162,2.00168],\n",
        " Intervalo [2.00168,2.00174],\n",
        " Intervalo [2.00174,2.0018],\n",
        " Intervalo [2.0018,2.00186],\n",
        " Intervalo [2.00186,2.00192],\n",
        " Intervalo [2.00192,2.00198],\n",
        " Intervalo [2.00198,2.00204],\n",
        " Intervalo [2.00204,2.0021],\n",
        " Intervalo [2.3645,2.36456],\n",
        " Intervalo [2.36456,2.36462],\n",
        " Intervalo [2.36462,2.36468],\n",
        " Intervalo [2.36468,2.36474],\n",
        " Intervalo [2.36474,2.3648],\n",
        " Intervalo [2.3648,2.36486],\n",
        " Intervalo [2.36486,2.36492],\n",
        " Intervalo [2.36492,2.36498],\n",
        " Intervalo [2.36498,2.36504],\n",
        " Intervalo [2.36504,2.3651],\n",
        " Intervalo [2.3651,2.36516],\n",
        " Intervalo [2.36516,2.36522],\n",
        " Intervalo [2.36522,2.36528],\n",
        " Intervalo [2.36528,2.36534],\n",
        " Intervalo [2.36534,2.3654],\n",
        " Intervalo [2.3654,2.36546],\n",
        " Intervalo [2.36546,2.36552],\n",
        " Intervalo [2.36552,2.36558],\n",
        " Intervalo [2.36558,2.36564],\n",
        " Intervalo [2.36564,2.3657],\n",
        " Intervalo [2.3657,2.36576],\n",
        " Intervalo [2.36576,2.36582],\n",
        " Intervalo [2.36582,2.36588],\n",
        " Intervalo [2.36588,2.36594],\n",
        " Intervalo [2.36594,2.366],\n",
        " Intervalo [2.366,2.36606],\n",
        " Intervalo [2.36606,2.36612],\n",
        " Intervalo [2.36612,2.36618],\n",
        " Intervalo [2.36618,2.36624],\n",
        " Intervalo [2.36624,2.3663],\n",
        " Intervalo [2.3663,2.36636],\n",
        " Intervalo [2.36636,2.36642],\n",
        " Intervalo [2.36642,2.36648],\n",
        " Intervalo [2.36648,2.36654],\n",
        " Intervalo [2.36654,2.3666],\n",
        " Intervalo [2.3666,2.36666],\n",
        " Intervalo [2.36666,2.36672],\n",
        " Intervalo [2.36672,2.36678],\n",
        " Intervalo [2.36678,2.36684],\n",
        " Intervalo [2.36684,2.3669],\n",
        " Intervalo [2.3669,2.36696],\n",
        " Intervalo [2.36696,2.36702],\n",
        " Intervalo [2.36702,2.36708],\n",
        " Intervalo [2.36708,2.36714],\n",
        " Intervalo [2.36714,2.3672],\n",
        " Intervalo [2.3672,2.36726],\n",
        " Intervalo [2.36726,2.36732],\n",
        " Intervalo [2.36732,2.36738],\n",
        " Intervalo [2.36738,2.36744],\n",
        " Intervalo [2.36744,2.3675],\n",
        " Intervalo [2.3675,2.36756]]"
       ]
      }
     ],
     "prompt_number": 34
    },
    {
     "cell_type": "code",
     "collapsed": false,
     "input": [
      "def g(x):\n",
      "    return x*(x-1)*(x-2)*(x-3)*(x-4)\n",
      "\n",
      "a=Intervalo(-1,5)\n",
      "l = biseccion(g, a,1)"
     ],
     "language": "python",
     "metadata": {},
     "outputs": [],
     "prompt_number": "*"
    },
    {
     "cell_type": "code",
     "collapsed": false,
     "input": [
      "def clean_list(lista):\n",
      "    k = []\n",
      "    b = lista[0]\n",
      "    i = 0\n",
      "    while i < len(lista):\n",
      "        if b.hi == lista[i+1].lo :\n",
      "            b = Intervalo(b.lo, lista[i+1].hi)\n",
      "            i += 1\n",
      "\n",
      "        else :\n",
      "            k = k + b\n",
      "            b = lista[i+1]\n",
      "            i +=1\n",
      "    return k\n",
      "\n",
      "clean_list(l)"
     ],
     "language": "python",
     "metadata": {},
     "outputs": [
      {
       "ename": "NameError",
       "evalue": "name 'l' is not defined",
       "output_type": "pyerr",
       "traceback": [
        "\u001b[1;31m---------------------------------------------------------------------------\u001b[0m\n\u001b[1;31mNameError\u001b[0m                                 Traceback (most recent call last)",
        "\u001b[1;32m<ipython-input-22-71d303b2ce9e>\u001b[0m in \u001b[0;36m<module>\u001b[1;34m()\u001b[0m\n\u001b[0;32m     14\u001b[0m     \u001b[1;32mreturn\u001b[0m \u001b[0mk\u001b[0m\u001b[1;33m\u001b[0m\u001b[0m\n\u001b[0;32m     15\u001b[0m \u001b[1;33m\u001b[0m\u001b[0m\n\u001b[1;32m---> 16\u001b[1;33m \u001b[0mclean_list\u001b[0m\u001b[1;33m(\u001b[0m\u001b[0ml\u001b[0m\u001b[1;33m)\u001b[0m\u001b[1;33m\u001b[0m\u001b[0m\n\u001b[0m",
        "\u001b[1;31mNameError\u001b[0m: name 'l' is not defined"
       ]
      }
     ],
     "prompt_number": 22
    },
    {
     "cell_type": "code",
     "collapsed": false,
     "input": [
      "def met_biseccion(x, f, n) :\n",
      "    \"\"\"\n",
      "    Este m\u00e9todo, a diferencia de otros m\u00e1s elegantes, no hace uso de un valor de tolerancia, sino m\u00e1s bien se le da\n",
      "    una cantidad finita de pasos para dividir el Intervalo. Esto conlleva a que pueden darse dos micro_intervalos consecutivos que\n",
      "    contengan el mismo cero. Para esto fue necesario analizar si el cero anterior enlistado est\u00e1 a una distancia menor o igual a\n",
      "    la del epsilon producto del step. \n",
      "    \"\"\"\n",
      "    # x - intervalo\n",
      "    # f - funci\u00f3n\n",
      "    # n - steps\n",
      "    \n",
      "    epsilon = float(x.hi - x.lo)/n\n",
      "    current_x = x.lo\n",
      "    posibles_ceros = []\n",
      "    \n",
      "    for i in range(1, n) :\n",
      "        micro_intervalo = Intervalo(current_x, current_x + epsilon)\n",
      "        current_x += epsilon\n",
      "        \n",
      "        this_y = f(micro_intervalo)\n",
      "        if i == 1 :\n",
      "            y_final = this_y\n",
      "        else:\n",
      "            y_final = Intervalo.hull(y_final, this_y)\n",
      "        if 0 in this_y and (this_y.lo * this_y.hi < 0) :\n",
      "            if posibles_ceros == [] :\n",
      "                posibles_ceros.append(micro_intervalo)\n",
      "            elif micro_intervalo.lo - posibles_ceros[-1].hi <= epsilon :\n",
      "                posibles_ceros[-1].hi = micro_intervalo.hi\n",
      "            else :\n",
      "                posibles_ceros.append(micro_intervalo)\n",
      "            \n",
      "    return posibles_ceros"
     ],
     "language": "python",
     "metadata": {},
     "outputs": [],
     "prompt_number": 20
    },
    {
     "cell_type": "code",
     "collapsed": false,
     "input": [
      "def h(x):\n",
      "    return x*x\n",
      "\n",
      "met_biseccion( Intervalo(-1,1), h,  1000)"
     ],
     "language": "python",
     "metadata": {},
     "outputs": [
      {
       "metadata": {},
       "output_type": "pyout",
       "prompt_number": 22,
       "text": [
        "[Intervalo [-0.002,8.74300631892e-16]]"
       ]
      }
     ],
     "prompt_number": 22
    },
    {
     "cell_type": "code",
     "collapsed": false,
     "input": [],
     "language": "python",
     "metadata": {},
     "outputs": []
    }
   ],
   "metadata": {}
  }
 ]
}